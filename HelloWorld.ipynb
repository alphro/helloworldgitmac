{
 "cells": [
  {
   "cell_type": "markdown",
   "id": "3f20bad9-8c26-4557-9d18-f60567f5dafa",
   "metadata": {},
   "source": [
    "# This is the first project I am coding with on a Macbook!"
   ]
  },
  {
   "cell_type": "code",
   "execution_count": 1,
   "id": "c2ab4be4-efa2-4204-ab94-97ec405c0f5c",
   "metadata": {},
   "outputs": [
    {
     "name": "stdout",
     "output_type": "stream",
     "text": [
      "hello world\n"
     ]
    }
   ],
   "source": [
    "print(\"hello world\")"
   ]
  },
  {
   "cell_type": "markdown",
   "id": "2813097a-096a-4b27-8cc4-e7a0dcd80115",
   "metadata": {},
   "source": [
    "# First for look!"
   ]
  },
  {
   "cell_type": "code",
   "execution_count": 4,
   "id": "11a6dfa3-b30b-491a-9d37-e2781ca8f3cc",
   "metadata": {},
   "outputs": [
    {
     "name": "stdout",
     "output_type": "stream",
     "text": [
      "0\n",
      "1\n",
      "2\n",
      "3\n",
      "4\n"
     ]
    }
   ],
   "source": [
    "for i in range(5):\n",
    "    print(i)"
   ]
  }
 ],
 "metadata": {
  "kernelspec": {
   "display_name": "Python 3 (ipykernel)",
   "language": "python",
   "name": "python3"
  },
  "language_info": {
   "codemirror_mode": {
    "name": "ipython",
    "version": 3
   },
   "file_extension": ".py",
   "mimetype": "text/x-python",
   "name": "python",
   "nbconvert_exporter": "python",
   "pygments_lexer": "ipython3",
   "version": "3.11.7"
  }
 },
 "nbformat": 4,
 "nbformat_minor": 5
}
